{
 "cells": [
  {
   "cell_type": "code",
   "execution_count": 40,
   "metadata": {},
   "outputs": [
    {
     "data": {
      "text/html": [
       "<div>\n",
       "<style scoped>\n",
       "    .dataframe tbody tr th:only-of-type {\n",
       "        vertical-align: middle;\n",
       "    }\n",
       "\n",
       "    .dataframe tbody tr th {\n",
       "        vertical-align: top;\n",
       "    }\n",
       "\n",
       "    .dataframe thead th {\n",
       "        text-align: right;\n",
       "    }\n",
       "</style>\n",
       "<table border=\"1\" class=\"dataframe\">\n",
       "  <thead>\n",
       "    <tr style=\"text-align: right;\">\n",
       "      <th></th>\n",
       "      <th>Name</th>\n",
       "      <th>Age</th>\n",
       "      <th>Gender</th>\n",
       "      <th>Score</th>\n",
       "    </tr>\n",
       "  </thead>\n",
       "  <tbody>\n",
       "    <tr>\n",
       "      <th>2</th>\n",
       "      <td>Charlie</td>\n",
       "      <td>22</td>\n",
       "      <td>Male</td>\n",
       "      <td>90</td>\n",
       "    </tr>\n",
       "    <tr>\n",
       "      <th>3</th>\n",
       "      <td>Diana</td>\n",
       "      <td>24</td>\n",
       "      <td>Female</td>\n",
       "      <td>92</td>\n",
       "    </tr>\n",
       "  </tbody>\n",
       "</table>\n",
       "</div>"
      ],
      "text/plain": [
       "      Name  Age  Gender  Score\n",
       "2  Charlie   22    Male     90\n",
       "3    Diana   24  Female     92"
      ]
     },
     "execution_count": 40,
     "metadata": {},
     "output_type": "execute_result"
    }
   ],
   "source": [
    "import pandas as pd\n",
    "\n",
    "data_table = pd.DataFrame(\n",
    "    {\n",
    "        \"Name\": [\"Alice\", \"Bob\", \"Charlie\", \"Diana\"],\n",
    "        \"Age\": [23, 25, 22, 24],\n",
    "        \"Gender\": [\"Female\", \"Male\", \"Male\", \"Female\"],\n",
    "        \"Score\": [85, 78, 90, 92],\n",
    "    }\n",
    ")\n",
    "\n",
    "# #Select and display only the Name and Score columns.\n",
    "data_table[[\"Name\", \"Score\"]]\n",
    "\n",
    "# # Filter and display rows where Score is greater than 85.\n",
    "data_table[data_table[\"Score\"] > 85]\n",
    "\n",
    "\n",
    "# # Display the row for the student named \"Bob\" using loc.\n",
    "# # data_table[data_table['Name']=='Bob']\n",
    "data_table.loc[data_table.Name == \"Bob\"]\n",
    "\n",
    "\n",
    "## Display the last 2 rows of the DataFrame.\n",
    "data_table.iloc[-2:]"
   ]
  }
 ],
 "metadata": {
  "kernelspec": {
   "display_name": "Python 3",
   "language": "python",
   "name": "python3"
  },
  "language_info": {
   "codemirror_mode": {
    "name": "ipython",
    "version": 3
   },
   "file_extension": ".py",
   "mimetype": "text/x-python",
   "name": "python",
   "nbconvert_exporter": "python",
   "pygments_lexer": "ipython3",
   "version": "3.10.9"
  }
 },
 "nbformat": 4,
 "nbformat_minor": 2
}
