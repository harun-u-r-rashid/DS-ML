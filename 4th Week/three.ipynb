{
 "cells": [
  {
   "cell_type": "code",
   "execution_count": 17,
   "metadata": {},
   "outputs": [
    {
     "name": "stdout",
     "output_type": "stream",
     "text": [
      "Passed\n",
      "False    78.0\n",
      "True     89.0\n",
      "Name: Score, dtype: float64\n"
     ]
    },
    {
     "data": {
      "text/html": [
       "<div>\n",
       "<style scoped>\n",
       "    .dataframe tbody tr th:only-of-type {\n",
       "        vertical-align: middle;\n",
       "    }\n",
       "\n",
       "    .dataframe tbody tr th {\n",
       "        vertical-align: top;\n",
       "    }\n",
       "\n",
       "    .dataframe thead th {\n",
       "        text-align: right;\n",
       "    }\n",
       "</style>\n",
       "<table border=\"1\" class=\"dataframe\">\n",
       "  <thead>\n",
       "    <tr style=\"text-align: right;\">\n",
       "      <th></th>\n",
       "      <th>Name</th>\n",
       "      <th>Age</th>\n",
       "      <th>Gender</th>\n",
       "      <th>Score</th>\n",
       "      <th>Passed</th>\n",
       "    </tr>\n",
       "  </thead>\n",
       "  <tbody>\n",
       "    <tr>\n",
       "      <th>1</th>\n",
       "      <td>Bob</td>\n",
       "      <td>25</td>\n",
       "      <td>Male</td>\n",
       "      <td>78</td>\n",
       "      <td>False</td>\n",
       "    </tr>\n",
       "    <tr>\n",
       "      <th>0</th>\n",
       "      <td>Alice</td>\n",
       "      <td>23</td>\n",
       "      <td>Female</td>\n",
       "      <td>85</td>\n",
       "      <td>True</td>\n",
       "    </tr>\n",
       "    <tr>\n",
       "      <th>2</th>\n",
       "      <td>Charlie</td>\n",
       "      <td>22</td>\n",
       "      <td>Male</td>\n",
       "      <td>90</td>\n",
       "      <td>True</td>\n",
       "    </tr>\n",
       "    <tr>\n",
       "      <th>3</th>\n",
       "      <td>Diana</td>\n",
       "      <td>24</td>\n",
       "      <td>Female</td>\n",
       "      <td>92</td>\n",
       "      <td>True</td>\n",
       "    </tr>\n",
       "  </tbody>\n",
       "</table>\n",
       "</div>"
      ],
      "text/plain": [
       "      Name  Age  Gender  Score  Passed\n",
       "1      Bob   25    Male     78   False\n",
       "0    Alice   23  Female     85    True\n",
       "2  Charlie   22    Male     90    True\n",
       "3    Diana   24  Female     92    True"
      ]
     },
     "execution_count": 17,
     "metadata": {},
     "output_type": "execute_result"
    }
   ],
   "source": [
    "import pandas as pd \n",
    "\n",
    "data_table = pd.DataFrame({'Name':['Alice', 'Bob', 'Charlie', 'Diana'], 'Age':[23,25,22,24], 'Gender':['Female', 'Male', 'Male', 'Female'], 'Score':[85, 78, 90, 92]})\n",
    "data_table['Passed'] = data_table['Score'] > 80\n",
    "\n",
    "# Calculate the average age of students.\n",
    "data_table.Age.mean()\n",
    "\n",
    "\n",
    "# Find the maximum and minimum scores.\n",
    "data_table.Score.max()\n",
    "data_table.Score.min()\n",
    "\n",
    "\n",
    "\n",
    "# Count the number of students who passed.\n",
    "data_table[data_table['Passed'] == False]\n",
    "\n",
    "\n",
    "# Group the data by the Passed column and calculate the average score for each group.\n",
    "passed_avg_score = data_table.groupby('Passed')['Score'].mean()\n",
    "print(passed_avg_score)\n",
    "\n",
    "\n",
    "# Sort the DataFrame by Score in descending order.\n",
    "data_table.sort_values(by='Score', ascending=False)\n",
    "\n",
    "\n"
   ]
  }
 ],
 "metadata": {
  "kernelspec": {
   "display_name": "Python 3",
   "language": "python",
   "name": "python3"
  },
  "language_info": {
   "codemirror_mode": {
    "name": "ipython",
    "version": 3
   },
   "file_extension": ".py",
   "mimetype": "text/x-python",
   "name": "python",
   "nbconvert_exporter": "python",
   "pygments_lexer": "ipython3",
   "version": "3.10.9"
  }
 },
 "nbformat": 4,
 "nbformat_minor": 2
}
