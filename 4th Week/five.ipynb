{
 "cells": [
  {
   "cell_type": "code",
   "execution_count": 6,
   "metadata": {},
   "outputs": [
    {
     "name": "stdout",
     "output_type": "stream",
     "text": [
      "450\n"
     ]
    }
   ],
   "source": [
    "import pandas as pd\n",
    "\n",
    "data_table = pd.DataFrame(\n",
    "    {\n",
    "        \"Product\": [\"Laptop\", \"Smartphone\", \"Desk\", \"Chair\"],\n",
    "        \"Category\": [\"Electronics\", \"Electronics\", \"Furniture\", \"Furniture\"],\n",
    "        \"Sales\": [500, 300, 200, 150],\n",
    "        \"Discount\": [50, 30, 20, 15],\n",
    "    }\n",
    ")\n",
    "data_table.head()\n",
    "\n",
    "\n",
    "# QS-1: Calculate a new column named Net Sales as Sales - Discount.\n",
    "data_table[\"Net Sales\"] = data_table.Sales - data_table.Discount\n",
    "data_table.head()\n",
    "\n",
    "# QS-2: Group the data by Category and calculate total sales for each category.\n",
    "group_by = data_table.groupby(\"Category\")[\"Sales\"].sum()\n",
    "group_by.head()\n",
    "\n",
    "# QS-3: Find the product with the highest net sales.\n",
    "\n",
    "highest = data_table[\"Net Sales\"].max()\n",
    "print(highest)"
   ]
  }
 ],
 "metadata": {
  "kernelspec": {
   "display_name": "Python 3",
   "language": "python",
   "name": "python3"
  },
  "language_info": {
   "codemirror_mode": {
    "name": "ipython",
    "version": 3
   },
   "file_extension": ".py",
   "mimetype": "text/x-python",
   "name": "python",
   "nbconvert_exporter": "python",
   "pygments_lexer": "ipython3",
   "version": "3.10.9"
  }
 },
 "nbformat": 4,
 "nbformat_minor": 2
}
